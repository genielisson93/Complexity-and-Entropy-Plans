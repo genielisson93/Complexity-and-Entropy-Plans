{
 "cells": [
  {
   "cell_type": "code",
   "execution_count": 27,
   "id": "ec79b156-e198-404b-b018-31fd0b918a83",
   "metadata": {},
   "outputs": [
    {
     "name": "stdout",
     "output_type": "stream",
     "text": [
      "The k-mer occurrence probabilities have been calculated and saved in 'probabilities_SARS-CoV-2.xlsx'\n"
     ]
    }
   ],
   "source": [
    "# Library\n",
    "import pandas as pd\n",
    "\n",
    "def calculate_kmer_probabilities(file_path):\n",
    "    # Load the Excel file\n",
    "    xls = pd.ExcelFile(file_path)\n",
    "    \n",
    "    # Load data from the first sheet\n",
    "    df = pd.read_excel(xls, sheet_name='Sheet1')\n",
    "\n",
    "    # Select k-mer columns (all except 'Sequence_ID' and 'Total_Frequency')\n",
    "    kmer_columns = df.columns[1:-1]\n",
    "\n",
    "    # Calculate k-mer occurrence probabilities for each sequence\n",
    "    df_probabilities = df[kmer_columns].div(df['Total_Frequency'], axis=0)\n",
    "\n",
    "    # Add the sequence identifier column for reference\n",
    "    df_probabilities.insert(0, 'Sequence_ID', df['Sequence_ID'])\n",
    "\n",
    "    return df_probabilities\n",
    "\n",
    "# Path to the Excel file\n",
    "file_path = 'kmer_frequency_SARS-CoV-2.xlsx'\n",
    "\n",
    "# Calculate probabilities\n",
    "kmer_probabilities = calculate_kmer_probabilities(file_path)\n",
    "\n",
    "# Save the result in a new Excel file\n",
    "output_file = 'probabilities_SARS-CoV-2.xlsx'\n",
    "kmer_probabilities.to_excel(output_file, index=False)\n",
    "\n",
    "print(f\"The k-mer occurrence probabilities have been calculated and saved in '{output_file}'\")\n"
   ]
  },
  {
   "cell_type": "code",
   "execution_count": null,
   "id": "0f35d573-8c95-4756-a126-7fc63229d419",
   "metadata": {},
   "outputs": [],
   "source": []
  }
 ],
 "metadata": {
  "kernelspec": {
   "display_name": "Python 3 (ipykernel)",
   "language": "python",
   "name": "python3"
  },
  "language_info": {
   "codemirror_mode": {
    "name": "ipython",
    "version": 3
   },
   "file_extension": ".py",
   "mimetype": "text/x-python",
   "name": "python",
   "nbconvert_exporter": "python",
   "pygments_lexer": "ipython3",
   "version": "3.12.3"
  }
 },
 "nbformat": 4,
 "nbformat_minor": 5
}
